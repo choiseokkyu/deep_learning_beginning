{
 "cells": [
  {
   "cell_type": "code",
   "execution_count": 1,
   "metadata": {},
   "outputs": [
    {
     "name": "stderr",
     "output_type": "stream",
     "text": [
      "/home/choiseokokyu/miniconda3/envs/deep/lib/python3.6/importlib/_bootstrap.py:219: RuntimeWarning: compiletime version 3.5 of module 'tensorflow.python.framework.fast_tensor_util' does not match runtime version 3.6\n",
      "  return f(*args, **kwds)\n"
     ]
    }
   ],
   "source": [
    "import os\n",
    "import numpy as np\n",
    "import tensorflow as tf\n",
    "from scipy.misc.pilutil import imread, imresize\n",
    "import matplotlib.pyplot as plt\n",
    "%matplotlib inline"
   ]
  },
  {
   "cell_type": "code",
   "execution_count": 2,
   "metadata": {},
   "outputs": [],
   "source": [
    "# def img_to_data(path, img_size):\n",
    "\n",
    "#    cwd = os.getcwd()\n",
    "#    path = path\n",
    "#    image_list = os.listdir(cwd+path)\n",
    "#    image_array = []\n",
    "#    label_array = []\n",
    "#    for i in image_list:\n",
    "#        img = imread(cwd+path+i)\n",
    "#        resize_img = imresize(img, img_size)\n",
    "#        image_array.append(resize_img)\n",
    "#        if \"cat\" in i :\n",
    "#            label_array.append(\"cat\")\n",
    "#        else:\n",
    "#            label_array.append('dog')\n",
    "#    print(\"check :\", np.shape(image_array))\n",
    "#    print(\"label :\", np.shape(label_array))\n",
    "\n",
    "#    split_value = int(0.8*(len(image_array)))\n",
    "#    train_img = image_array[:split_value]\n",
    "#    test_img = image_array[split_value:]\n",
    "#    train_label = label_array[:split_value]\n",
    "#    test_label = label_array[split_value:]\n",
    "\n",
    "#    savepath = cwd+\"/dataset.npz\"\n",
    "#    np.savez(savepath,train_img=train_img,train_label=train_label,\n",
    "#            test_img=test_img,test_label=test_label)\n",
    "#    print(\"data saved to %s\"%(savepath))\n",
    "\n",
    "# img_to_data('/train/', [256,256,3])"
   ]
  },
  {
   "cell_type": "code",
   "execution_count": 24,
   "metadata": {},
   "outputs": [],
   "source": [
    "data = np.load(\"dataset.npz\")\n",
    "train_img = data[\"train_img\"]\n",
    "train_label = data[\"train_label\"]\n",
    "test_img = data[\"test_img\"]\n",
    "test_label = data[\"test_label\"]"
   ]
  },
  {
   "cell_type": "code",
   "execution_count": 25,
   "metadata": {},
   "outputs": [
    {
     "data": {
      "text/plain": [
       "(5000, 2)"
      ]
     },
     "execution_count": 25,
     "metadata": {},
     "output_type": "execute_result"
    }
   ],
   "source": [
    "train_label = [[1,0] if i == \"cat\" else [0,1] for i in train_label]\n",
    "test_label = [[1,0] if i ==\"cat\" else [0,1] for i in test_label]\n",
    "np.array(test_label).shape"
   ]
  },
  {
   "cell_type": "code",
   "execution_count": 5,
   "metadata": {},
   "outputs": [],
   "source": [
    "training_epochs = 20\n",
    "batch_size = 100\n",
    "learning_rate = 0.01"
   ]
  },
  {
   "cell_type": "code",
   "execution_count": 6,
   "metadata": {},
   "outputs": [
    {
     "name": "stdout",
     "output_type": "stream",
     "text": [
      "Learning Started\n",
      "Epoch : 1 cost : 403676.90941391577\n",
      "Epoch : 2 cost : 0.7102384680509564\n",
      "Epoch : 3 cost : 0.7012353065609933\n",
      "Epoch : 4 cost : 0.703259896636009\n",
      "Epoch : 5 cost : 0.6931400135159492\n",
      "Epoch : 6 cost : 0.6931713408231738\n",
      "Epoch : 7 cost : 0.6936751604080204\n",
      "Epoch : 8 cost : 0.693328785300255\n",
      "Epoch : 9 cost : 0.6934324809908866\n",
      "Epoch : 10 cost : 0.6933325231075288\n",
      "Epoch : 11 cost : 0.6931585282087328\n",
      "Epoch : 12 cost : 0.693118034899235\n",
      "Epoch : 13 cost : 0.6931599214673044\n",
      "Epoch : 14 cost : 0.6931277531385425\n",
      "Epoch : 15 cost : 0.693127153217792\n",
      "Epoch : 16 cost : 0.6931413248181345\n",
      "Epoch : 17 cost : 0.6931285789608959\n",
      "Epoch : 18 cost : 0.6931276512145995\n",
      "Epoch : 19 cost : 0.6930949181318287\n",
      "Epoch : 20 cost : 0.6931133279204367\n",
      "Learning Finished\n"
     ]
    },
    {
     "ename": "InvalidArgumentError",
     "evalue": "Incompatible shapes: [5000] vs. [20000]\n\t [[Node: Equal = Equal[T=DT_INT64, _device=\"/job:localhost/replica:0/task:0/device:CPU:0\"](ArgMax, ArgMax_1)]]\n\nCaused by op 'Equal', defined at:\n  File \"/home/choiseokokyu/miniconda3/envs/deep/lib/python3.6/runpy.py\", line 193, in _run_module_as_main\n    \"__main__\", mod_spec)\n  File \"/home/choiseokokyu/miniconda3/envs/deep/lib/python3.6/runpy.py\", line 85, in _run_code\n    exec(code, run_globals)\n  File \"/home/choiseokokyu/miniconda3/envs/deep/lib/python3.6/site-packages/ipykernel_launcher.py\", line 16, in <module>\n    app.launch_new_instance()\n  File \"/home/choiseokokyu/miniconda3/envs/deep/lib/python3.6/site-packages/traitlets/config/application.py\", line 658, in launch_instance\n    app.start()\n  File \"/home/choiseokokyu/miniconda3/envs/deep/lib/python3.6/site-packages/ipykernel/kernelapp.py\", line 478, in start\n    self.io_loop.start()\n  File \"/home/choiseokokyu/miniconda3/envs/deep/lib/python3.6/site-packages/zmq/eventloop/ioloop.py\", line 177, in start\n    super(ZMQIOLoop, self).start()\n  File \"/home/choiseokokyu/miniconda3/envs/deep/lib/python3.6/site-packages/tornado/ioloop.py\", line 888, in start\n    handler_func(fd_obj, events)\n  File \"/home/choiseokokyu/miniconda3/envs/deep/lib/python3.6/site-packages/tornado/stack_context.py\", line 277, in null_wrapper\n    return fn(*args, **kwargs)\n  File \"/home/choiseokokyu/miniconda3/envs/deep/lib/python3.6/site-packages/zmq/eventloop/zmqstream.py\", line 440, in _handle_events\n    self._handle_recv()\n  File \"/home/choiseokokyu/miniconda3/envs/deep/lib/python3.6/site-packages/zmq/eventloop/zmqstream.py\", line 472, in _handle_recv\n    self._run_callback(callback, msg)\n  File \"/home/choiseokokyu/miniconda3/envs/deep/lib/python3.6/site-packages/zmq/eventloop/zmqstream.py\", line 414, in _run_callback\n    callback(*args, **kwargs)\n  File \"/home/choiseokokyu/miniconda3/envs/deep/lib/python3.6/site-packages/tornado/stack_context.py\", line 277, in null_wrapper\n    return fn(*args, **kwargs)\n  File \"/home/choiseokokyu/miniconda3/envs/deep/lib/python3.6/site-packages/ipykernel/kernelbase.py\", line 281, in dispatcher\n    return self.dispatch_shell(stream, msg)\n  File \"/home/choiseokokyu/miniconda3/envs/deep/lib/python3.6/site-packages/ipykernel/kernelbase.py\", line 232, in dispatch_shell\n    handler(stream, idents, msg)\n  File \"/home/choiseokokyu/miniconda3/envs/deep/lib/python3.6/site-packages/ipykernel/kernelbase.py\", line 397, in execute_request\n    user_expressions, allow_stdin)\n  File \"/home/choiseokokyu/miniconda3/envs/deep/lib/python3.6/site-packages/ipykernel/ipkernel.py\", line 208, in do_execute\n    res = shell.run_cell(code, store_history=store_history, silent=silent)\n  File \"/home/choiseokokyu/miniconda3/envs/deep/lib/python3.6/site-packages/ipykernel/zmqshell.py\", line 533, in run_cell\n    return super(ZMQInteractiveShell, self).run_cell(*args, **kwargs)\n  File \"/home/choiseokokyu/miniconda3/envs/deep/lib/python3.6/site-packages/IPython/core/interactiveshell.py\", line 2728, in run_cell\n    interactivity=interactivity, compiler=compiler, result=result)\n  File \"/home/choiseokokyu/miniconda3/envs/deep/lib/python3.6/site-packages/IPython/core/interactiveshell.py\", line 2850, in run_ast_nodes\n    if self.run_code(code, result):\n  File \"/home/choiseokokyu/miniconda3/envs/deep/lib/python3.6/site-packages/IPython/core/interactiveshell.py\", line 2910, in run_code\n    exec(code_obj, self.user_global_ns, self.user_ns)\n  File \"<ipython-input-6-d0a2553d9769>\", line 81, in <module>\n    correct_prediction = tf.equal(tf.argmax(logits, 1), tf.argmax(Y, 1))\n  File \"/home/choiseokokyu/miniconda3/envs/deep/lib/python3.6/site-packages/tensorflow/python/ops/gen_math_ops.py\", line 1476, in equal\n    \"Equal\", x=x, y=y, name=name)\n  File \"/home/choiseokokyu/miniconda3/envs/deep/lib/python3.6/site-packages/tensorflow/python/framework/op_def_library.py\", line 787, in _apply_op_helper\n    op_def=op_def)\n  File \"/home/choiseokokyu/miniconda3/envs/deep/lib/python3.6/site-packages/tensorflow/python/framework/ops.py\", line 2956, in create_op\n    op_def=op_def)\n  File \"/home/choiseokokyu/miniconda3/envs/deep/lib/python3.6/site-packages/tensorflow/python/framework/ops.py\", line 1470, in __init__\n    self._traceback = self._graph._extract_stack()  # pylint: disable=protected-access\n\nInvalidArgumentError (see above for traceback): Incompatible shapes: [5000] vs. [20000]\n\t [[Node: Equal = Equal[T=DT_INT64, _device=\"/job:localhost/replica:0/task:0/device:CPU:0\"](ArgMax, ArgMax_1)]]\n",
     "output_type": "error",
     "traceback": [
      "\u001b[0;31m---------------------------------------------------------------------------\u001b[0m",
      "\u001b[0;31mInvalidArgumentError\u001b[0m                      Traceback (most recent call last)",
      "\u001b[0;32m~/miniconda3/envs/deep/lib/python3.6/site-packages/tensorflow/python/client/session.py\u001b[0m in \u001b[0;36m_do_call\u001b[0;34m(self, fn, *args)\u001b[0m\n\u001b[1;32m   1322\u001b[0m     \u001b[0;32mtry\u001b[0m\u001b[0;34m:\u001b[0m\u001b[0;34m\u001b[0m\u001b[0m\n\u001b[0;32m-> 1323\u001b[0;31m       \u001b[0;32mreturn\u001b[0m \u001b[0mfn\u001b[0m\u001b[0;34m(\u001b[0m\u001b[0;34m*\u001b[0m\u001b[0margs\u001b[0m\u001b[0;34m)\u001b[0m\u001b[0;34m\u001b[0m\u001b[0m\n\u001b[0m\u001b[1;32m   1324\u001b[0m     \u001b[0;32mexcept\u001b[0m \u001b[0merrors\u001b[0m\u001b[0;34m.\u001b[0m\u001b[0mOpError\u001b[0m \u001b[0;32mas\u001b[0m \u001b[0me\u001b[0m\u001b[0;34m:\u001b[0m\u001b[0;34m\u001b[0m\u001b[0m\n",
      "\u001b[0;32m~/miniconda3/envs/deep/lib/python3.6/site-packages/tensorflow/python/client/session.py\u001b[0m in \u001b[0;36m_run_fn\u001b[0;34m(session, feed_dict, fetch_list, target_list, options, run_metadata)\u001b[0m\n\u001b[1;32m   1301\u001b[0m                                    \u001b[0mfeed_dict\u001b[0m\u001b[0;34m,\u001b[0m \u001b[0mfetch_list\u001b[0m\u001b[0;34m,\u001b[0m \u001b[0mtarget_list\u001b[0m\u001b[0;34m,\u001b[0m\u001b[0;34m\u001b[0m\u001b[0m\n\u001b[0;32m-> 1302\u001b[0;31m                                    status, run_metadata)\n\u001b[0m\u001b[1;32m   1303\u001b[0m \u001b[0;34m\u001b[0m\u001b[0m\n",
      "\u001b[0;32m~/miniconda3/envs/deep/lib/python3.6/site-packages/tensorflow/python/framework/errors_impl.py\u001b[0m in \u001b[0;36m__exit__\u001b[0;34m(self, type_arg, value_arg, traceback_arg)\u001b[0m\n\u001b[1;32m    472\u001b[0m             \u001b[0mcompat\u001b[0m\u001b[0;34m.\u001b[0m\u001b[0mas_text\u001b[0m\u001b[0;34m(\u001b[0m\u001b[0mc_api\u001b[0m\u001b[0;34m.\u001b[0m\u001b[0mTF_Message\u001b[0m\u001b[0;34m(\u001b[0m\u001b[0mself\u001b[0m\u001b[0;34m.\u001b[0m\u001b[0mstatus\u001b[0m\u001b[0;34m.\u001b[0m\u001b[0mstatus\u001b[0m\u001b[0;34m)\u001b[0m\u001b[0;34m)\u001b[0m\u001b[0;34m,\u001b[0m\u001b[0;34m\u001b[0m\u001b[0m\n\u001b[0;32m--> 473\u001b[0;31m             c_api.TF_GetCode(self.status.status))\n\u001b[0m\u001b[1;32m    474\u001b[0m     \u001b[0;31m# Delete the underlying status object from memory otherwise it stays alive\u001b[0m\u001b[0;34m\u001b[0m\u001b[0;34m\u001b[0m\u001b[0m\n",
      "\u001b[0;31mInvalidArgumentError\u001b[0m: Incompatible shapes: [5000] vs. [20000]\n\t [[Node: Equal = Equal[T=DT_INT64, _device=\"/job:localhost/replica:0/task:0/device:CPU:0\"](ArgMax, ArgMax_1)]]",
      "\nDuring handling of the above exception, another exception occurred:\n",
      "\u001b[0;31mInvalidArgumentError\u001b[0m                      Traceback (most recent call last)",
      "\u001b[0;32m<ipython-input-6-d0a2553d9769>\u001b[0m in \u001b[0;36m<module>\u001b[0;34m()\u001b[0m\n\u001b[1;32m     81\u001b[0m \u001b[0mcorrect_prediction\u001b[0m \u001b[0;34m=\u001b[0m \u001b[0mtf\u001b[0m\u001b[0;34m.\u001b[0m\u001b[0mequal\u001b[0m\u001b[0;34m(\u001b[0m\u001b[0mtf\u001b[0m\u001b[0;34m.\u001b[0m\u001b[0margmax\u001b[0m\u001b[0;34m(\u001b[0m\u001b[0mlogits\u001b[0m\u001b[0;34m,\u001b[0m \u001b[0;36m1\u001b[0m\u001b[0;34m)\u001b[0m\u001b[0;34m,\u001b[0m \u001b[0mtf\u001b[0m\u001b[0;34m.\u001b[0m\u001b[0margmax\u001b[0m\u001b[0;34m(\u001b[0m\u001b[0mY\u001b[0m\u001b[0;34m,\u001b[0m \u001b[0;36m1\u001b[0m\u001b[0;34m)\u001b[0m\u001b[0;34m)\u001b[0m\u001b[0;34m\u001b[0m\u001b[0m\n\u001b[1;32m     82\u001b[0m \u001b[0maccuracy\u001b[0m \u001b[0;34m=\u001b[0m \u001b[0mtf\u001b[0m\u001b[0;34m.\u001b[0m\u001b[0mreduce_mean\u001b[0m\u001b[0;34m(\u001b[0m\u001b[0mtf\u001b[0m\u001b[0;34m.\u001b[0m\u001b[0mcast\u001b[0m\u001b[0;34m(\u001b[0m\u001b[0mcorrect_prediction\u001b[0m\u001b[0;34m,\u001b[0m \u001b[0mtf\u001b[0m\u001b[0;34m.\u001b[0m\u001b[0mfloat32\u001b[0m\u001b[0;34m)\u001b[0m\u001b[0;34m)\u001b[0m\u001b[0;34m\u001b[0m\u001b[0m\n\u001b[0;32m---> 83\u001b[0;31m \u001b[0mprint\u001b[0m\u001b[0;34m(\u001b[0m\u001b[0;34m\"Accuracy :\"\u001b[0m\u001b[0;34m,\u001b[0m \u001b[0msess\u001b[0m\u001b[0;34m.\u001b[0m\u001b[0mrun\u001b[0m\u001b[0;34m(\u001b[0m\u001b[0maccuracy\u001b[0m\u001b[0;34m,\u001b[0m \u001b[0mfeed_dict\u001b[0m\u001b[0;34m=\u001b[0m\u001b[0;34m{\u001b[0m\u001b[0mX\u001b[0m \u001b[0;34m:\u001b[0m \u001b[0mtest_img\u001b[0m\u001b[0;34m,\u001b[0m \u001b[0mY\u001b[0m\u001b[0;34m:\u001b[0m \u001b[0mtest_label\u001b[0m\u001b[0;34m,\u001b[0m \u001b[0mkeep_prob\u001b[0m\u001b[0;34m:\u001b[0m\u001b[0;36m1\u001b[0m\u001b[0;34m}\u001b[0m\u001b[0;34m)\u001b[0m\u001b[0;34m)\u001b[0m\u001b[0;34m\u001b[0m\u001b[0m\n\u001b[0m",
      "\u001b[0;32m~/miniconda3/envs/deep/lib/python3.6/site-packages/tensorflow/python/client/session.py\u001b[0m in \u001b[0;36mrun\u001b[0;34m(self, fetches, feed_dict, options, run_metadata)\u001b[0m\n\u001b[1;32m    887\u001b[0m     \u001b[0;32mtry\u001b[0m\u001b[0;34m:\u001b[0m\u001b[0;34m\u001b[0m\u001b[0m\n\u001b[1;32m    888\u001b[0m       result = self._run(None, fetches, feed_dict, options_ptr,\n\u001b[0;32m--> 889\u001b[0;31m                          run_metadata_ptr)\n\u001b[0m\u001b[1;32m    890\u001b[0m       \u001b[0;32mif\u001b[0m \u001b[0mrun_metadata\u001b[0m\u001b[0;34m:\u001b[0m\u001b[0;34m\u001b[0m\u001b[0m\n\u001b[1;32m    891\u001b[0m         \u001b[0mproto_data\u001b[0m \u001b[0;34m=\u001b[0m \u001b[0mtf_session\u001b[0m\u001b[0;34m.\u001b[0m\u001b[0mTF_GetBuffer\u001b[0m\u001b[0;34m(\u001b[0m\u001b[0mrun_metadata_ptr\u001b[0m\u001b[0;34m)\u001b[0m\u001b[0;34m\u001b[0m\u001b[0m\n",
      "\u001b[0;32m~/miniconda3/envs/deep/lib/python3.6/site-packages/tensorflow/python/client/session.py\u001b[0m in \u001b[0;36m_run\u001b[0;34m(self, handle, fetches, feed_dict, options, run_metadata)\u001b[0m\n\u001b[1;32m   1118\u001b[0m     \u001b[0;32mif\u001b[0m \u001b[0mfinal_fetches\u001b[0m \u001b[0;32mor\u001b[0m \u001b[0mfinal_targets\u001b[0m \u001b[0;32mor\u001b[0m \u001b[0;34m(\u001b[0m\u001b[0mhandle\u001b[0m \u001b[0;32mand\u001b[0m \u001b[0mfeed_dict_tensor\u001b[0m\u001b[0;34m)\u001b[0m\u001b[0;34m:\u001b[0m\u001b[0;34m\u001b[0m\u001b[0m\n\u001b[1;32m   1119\u001b[0m       results = self._do_run(handle, final_targets, final_fetches,\n\u001b[0;32m-> 1120\u001b[0;31m                              feed_dict_tensor, options, run_metadata)\n\u001b[0m\u001b[1;32m   1121\u001b[0m     \u001b[0;32melse\u001b[0m\u001b[0;34m:\u001b[0m\u001b[0;34m\u001b[0m\u001b[0m\n\u001b[1;32m   1122\u001b[0m       \u001b[0mresults\u001b[0m \u001b[0;34m=\u001b[0m \u001b[0;34m[\u001b[0m\u001b[0;34m]\u001b[0m\u001b[0;34m\u001b[0m\u001b[0m\n",
      "\u001b[0;32m~/miniconda3/envs/deep/lib/python3.6/site-packages/tensorflow/python/client/session.py\u001b[0m in \u001b[0;36m_do_run\u001b[0;34m(self, handle, target_list, fetch_list, feed_dict, options, run_metadata)\u001b[0m\n\u001b[1;32m   1315\u001b[0m     \u001b[0;32mif\u001b[0m \u001b[0mhandle\u001b[0m \u001b[0;32mis\u001b[0m \u001b[0;32mNone\u001b[0m\u001b[0;34m:\u001b[0m\u001b[0;34m\u001b[0m\u001b[0m\n\u001b[1;32m   1316\u001b[0m       return self._do_call(_run_fn, self._session, feeds, fetches, targets,\n\u001b[0;32m-> 1317\u001b[0;31m                            options, run_metadata)\n\u001b[0m\u001b[1;32m   1318\u001b[0m     \u001b[0;32melse\u001b[0m\u001b[0;34m:\u001b[0m\u001b[0;34m\u001b[0m\u001b[0m\n\u001b[1;32m   1319\u001b[0m       \u001b[0;32mreturn\u001b[0m \u001b[0mself\u001b[0m\u001b[0;34m.\u001b[0m\u001b[0m_do_call\u001b[0m\u001b[0;34m(\u001b[0m\u001b[0m_prun_fn\u001b[0m\u001b[0;34m,\u001b[0m \u001b[0mself\u001b[0m\u001b[0;34m.\u001b[0m\u001b[0m_session\u001b[0m\u001b[0;34m,\u001b[0m \u001b[0mhandle\u001b[0m\u001b[0;34m,\u001b[0m \u001b[0mfeeds\u001b[0m\u001b[0;34m,\u001b[0m \u001b[0mfetches\u001b[0m\u001b[0;34m)\u001b[0m\u001b[0;34m\u001b[0m\u001b[0m\n",
      "\u001b[0;32m~/miniconda3/envs/deep/lib/python3.6/site-packages/tensorflow/python/client/session.py\u001b[0m in \u001b[0;36m_do_call\u001b[0;34m(self, fn, *args)\u001b[0m\n\u001b[1;32m   1334\u001b[0m         \u001b[0;32mexcept\u001b[0m \u001b[0mKeyError\u001b[0m\u001b[0;34m:\u001b[0m\u001b[0;34m\u001b[0m\u001b[0m\n\u001b[1;32m   1335\u001b[0m           \u001b[0;32mpass\u001b[0m\u001b[0;34m\u001b[0m\u001b[0m\n\u001b[0;32m-> 1336\u001b[0;31m       \u001b[0;32mraise\u001b[0m \u001b[0mtype\u001b[0m\u001b[0;34m(\u001b[0m\u001b[0me\u001b[0m\u001b[0;34m)\u001b[0m\u001b[0;34m(\u001b[0m\u001b[0mnode_def\u001b[0m\u001b[0;34m,\u001b[0m \u001b[0mop\u001b[0m\u001b[0;34m,\u001b[0m \u001b[0mmessage\u001b[0m\u001b[0;34m)\u001b[0m\u001b[0;34m\u001b[0m\u001b[0m\n\u001b[0m\u001b[1;32m   1337\u001b[0m \u001b[0;34m\u001b[0m\u001b[0m\n\u001b[1;32m   1338\u001b[0m   \u001b[0;32mdef\u001b[0m \u001b[0m_extend_graph\u001b[0m\u001b[0;34m(\u001b[0m\u001b[0mself\u001b[0m\u001b[0;34m)\u001b[0m\u001b[0;34m:\u001b[0m\u001b[0;34m\u001b[0m\u001b[0m\n",
      "\u001b[0;31mInvalidArgumentError\u001b[0m: Incompatible shapes: [5000] vs. [20000]\n\t [[Node: Equal = Equal[T=DT_INT64, _device=\"/job:localhost/replica:0/task:0/device:CPU:0\"](ArgMax, ArgMax_1)]]\n\nCaused by op 'Equal', defined at:\n  File \"/home/choiseokokyu/miniconda3/envs/deep/lib/python3.6/runpy.py\", line 193, in _run_module_as_main\n    \"__main__\", mod_spec)\n  File \"/home/choiseokokyu/miniconda3/envs/deep/lib/python3.6/runpy.py\", line 85, in _run_code\n    exec(code, run_globals)\n  File \"/home/choiseokokyu/miniconda3/envs/deep/lib/python3.6/site-packages/ipykernel_launcher.py\", line 16, in <module>\n    app.launch_new_instance()\n  File \"/home/choiseokokyu/miniconda3/envs/deep/lib/python3.6/site-packages/traitlets/config/application.py\", line 658, in launch_instance\n    app.start()\n  File \"/home/choiseokokyu/miniconda3/envs/deep/lib/python3.6/site-packages/ipykernel/kernelapp.py\", line 478, in start\n    self.io_loop.start()\n  File \"/home/choiseokokyu/miniconda3/envs/deep/lib/python3.6/site-packages/zmq/eventloop/ioloop.py\", line 177, in start\n    super(ZMQIOLoop, self).start()\n  File \"/home/choiseokokyu/miniconda3/envs/deep/lib/python3.6/site-packages/tornado/ioloop.py\", line 888, in start\n    handler_func(fd_obj, events)\n  File \"/home/choiseokokyu/miniconda3/envs/deep/lib/python3.6/site-packages/tornado/stack_context.py\", line 277, in null_wrapper\n    return fn(*args, **kwargs)\n  File \"/home/choiseokokyu/miniconda3/envs/deep/lib/python3.6/site-packages/zmq/eventloop/zmqstream.py\", line 440, in _handle_events\n    self._handle_recv()\n  File \"/home/choiseokokyu/miniconda3/envs/deep/lib/python3.6/site-packages/zmq/eventloop/zmqstream.py\", line 472, in _handle_recv\n    self._run_callback(callback, msg)\n  File \"/home/choiseokokyu/miniconda3/envs/deep/lib/python3.6/site-packages/zmq/eventloop/zmqstream.py\", line 414, in _run_callback\n    callback(*args, **kwargs)\n  File \"/home/choiseokokyu/miniconda3/envs/deep/lib/python3.6/site-packages/tornado/stack_context.py\", line 277, in null_wrapper\n    return fn(*args, **kwargs)\n  File \"/home/choiseokokyu/miniconda3/envs/deep/lib/python3.6/site-packages/ipykernel/kernelbase.py\", line 281, in dispatcher\n    return self.dispatch_shell(stream, msg)\n  File \"/home/choiseokokyu/miniconda3/envs/deep/lib/python3.6/site-packages/ipykernel/kernelbase.py\", line 232, in dispatch_shell\n    handler(stream, idents, msg)\n  File \"/home/choiseokokyu/miniconda3/envs/deep/lib/python3.6/site-packages/ipykernel/kernelbase.py\", line 397, in execute_request\n    user_expressions, allow_stdin)\n  File \"/home/choiseokokyu/miniconda3/envs/deep/lib/python3.6/site-packages/ipykernel/ipkernel.py\", line 208, in do_execute\n    res = shell.run_cell(code, store_history=store_history, silent=silent)\n  File \"/home/choiseokokyu/miniconda3/envs/deep/lib/python3.6/site-packages/ipykernel/zmqshell.py\", line 533, in run_cell\n    return super(ZMQInteractiveShell, self).run_cell(*args, **kwargs)\n  File \"/home/choiseokokyu/miniconda3/envs/deep/lib/python3.6/site-packages/IPython/core/interactiveshell.py\", line 2728, in run_cell\n    interactivity=interactivity, compiler=compiler, result=result)\n  File \"/home/choiseokokyu/miniconda3/envs/deep/lib/python3.6/site-packages/IPython/core/interactiveshell.py\", line 2850, in run_ast_nodes\n    if self.run_code(code, result):\n  File \"/home/choiseokokyu/miniconda3/envs/deep/lib/python3.6/site-packages/IPython/core/interactiveshell.py\", line 2910, in run_code\n    exec(code_obj, self.user_global_ns, self.user_ns)\n  File \"<ipython-input-6-d0a2553d9769>\", line 81, in <module>\n    correct_prediction = tf.equal(tf.argmax(logits, 1), tf.argmax(Y, 1))\n  File \"/home/choiseokokyu/miniconda3/envs/deep/lib/python3.6/site-packages/tensorflow/python/ops/gen_math_ops.py\", line 1476, in equal\n    \"Equal\", x=x, y=y, name=name)\n  File \"/home/choiseokokyu/miniconda3/envs/deep/lib/python3.6/site-packages/tensorflow/python/framework/op_def_library.py\", line 787, in _apply_op_helper\n    op_def=op_def)\n  File \"/home/choiseokokyu/miniconda3/envs/deep/lib/python3.6/site-packages/tensorflow/python/framework/ops.py\", line 2956, in create_op\n    op_def=op_def)\n  File \"/home/choiseokokyu/miniconda3/envs/deep/lib/python3.6/site-packages/tensorflow/python/framework/ops.py\", line 1470, in __init__\n    self._traceback = self._graph._extract_stack()  # pylint: disable=protected-access\n\nInvalidArgumentError (see above for traceback): Incompatible shapes: [5000] vs. [20000]\n\t [[Node: Equal = Equal[T=DT_INT64, _device=\"/job:localhost/replica:0/task:0/device:CPU:0\"](ArgMax, ArgMax_1)]]\n"
     ]
    }
   ],
   "source": [
    "X = tf.placeholder(tf.float32, shape=[None, 256, 256,3])\n",
    "Y = tf.placeholder(tf.float32, shape=[None, 2])\n",
    "\n",
    "keep_prob = tf.placeholder(tf.float32)\n",
    "\n",
    "#conv layer 1\n",
    "W1 = tf.get_variable(\"w1\", shape = [11,11,3,64], dtype = tf.float32, initializer=tf.contrib.layers.xavier_initializer())\n",
    "conv1 = tf.nn.conv2d(X, W1, strides=[1,4,4,1], padding=\"SAME\")\n",
    "b1 = tf.Variable(tf.constant(0.0, shape=[64], dtype=tf.float32), trainable = True, name='b1')\n",
    "conv1 = tf.nn.relu(tf.nn.bias_add(conv1, b1))\n",
    "lrn1 = tf.nn.local_response_normalization(conv1, alpha = 1e-4, beta = 0.75, depth_radius=2, bias=2.0)\n",
    "max_pool1 = tf.nn.max_pool(lrn1, ksize=[1,3,3,1], strides=[1,2,2,1], padding='VALID')\n",
    "\n",
    "\n",
    "#conv layer 2\n",
    "W2 = tf.get_variable(\"w2\", shape = [5, 5, 64, 192], dtype = tf.float32, initializer=tf.contrib.layers.xavier_initializer())\n",
    "conv2 = tf.nn.conv2d(max_pool1, W2, strides=[1,1,1,1], padding='SAME')\n",
    "b2 = tf.Variable(tf.constant(0.0, shape=[192], dtype = tf.float32), trainable=True, name='b2')\n",
    "conv2 = tf.nn.relu(tf.nn.bias_add(conv2, b2))\n",
    "lrn2 = tf.nn.local_response_normalization(conv2, alpha = 1e-4, beta=0.75, depth_radius =2, bias=2.0)\n",
    "max_pool2 = tf.nn.max_pool(lrn2, ksize=[1,3,3,1], strides=[1,2,2,1], padding='VALID')\n",
    "\n",
    "\n",
    "#conv layer 3\n",
    "W3 = tf.get_variable(\"w3\", shape = [3, 3 , 192, 384], dtype = tf.float32, initializer=tf.contrib.layers.xavier_initializer())\n",
    "conv3 = tf.nn.conv2d(max_pool2, W3, strides=[1,1,1,1], padding='SAME')\n",
    "b3 = tf.Variable(tf.constant(0.0, shape=[384], dtype = tf.float32), trainable=True, name='b3')\n",
    "conv3 = tf.nn.relu(tf.nn.bias_add(conv3, b3))\n",
    "\n",
    "#conv  layer 4\n",
    "W4 = tf.get_variable(\"w4\", shape = [3, 3 , 384, 256], dtype = tf.float32, initializer=tf.contrib.layers.xavier_initializer())\n",
    "conv4 = tf.nn.conv2d(conv3, W4, strides=[1,1,1,1], padding='SAME')\n",
    "b4 = tf.Variable(tf.constant(0.0, shape=[256], dtype = tf.float32), trainable=True, name='b4')\n",
    "conv4 = tf.nn.relu(tf.nn.bias_add(conv4, b4))\n",
    "\n",
    "#conv layer 5\n",
    "W5 = tf.get_variable(\"w5\", shape = [3, 3 , 256, 256], dtype = tf.float32, initializer=tf.contrib.layers.xavier_initializer())\n",
    "conv5 = tf.nn.conv2d(conv4, W5, strides=[1,1,1,1], padding='SAME')\n",
    "b5 = tf.Variable(tf.constant(0.0, shape=[256], dtype = tf.float32), trainable=True, name='b5')\n",
    "conv5 = tf.nn.relu(tf.nn.bias_add(conv5, b5))\n",
    "max_pool5 = tf.nn.max_pool(conv5, ksize=[1,3,3,1], strides=[1,2,2,1], padding='VALID')\n",
    "\n",
    "#fully_connected1\n",
    "flat = tf.reshape(max_pool5, [-1, 7*7*256])\n",
    "W6 = tf.get_variable(\"w6\", shape = [7*7*256, 4096], dtype = tf.float32, initializer=tf.contrib.layers.xavier_initializer())\n",
    "b6 = tf.get_variable(\"b6\", shape = [4096], dtype = tf.float32, initializer=tf.contrib.layers.xavier_initializer())\n",
    "fc6 = tf.nn.relu(tf.nn.bias_add(tf.matmul(flat,W6), b6))\n",
    "fc6 = tf.nn.dropout(fc6, keep_prob=keep_prob)\n",
    "\n",
    "#fully_connected2\n",
    "W7 = tf.get_variable(\"w7\", shape = [4096,4096], dtype = tf.float32, initializer=tf.contrib.layers.xavier_initializer())\n",
    "b7 = tf.get_variable(\"b7\", shape = [4096], dtype = tf.float32, initializer=tf.contrib.layers.xavier_initializer())\n",
    "fc7 = tf.nn.relu(tf.nn.bias_add(tf.matmul(fc6,W7), b7))\n",
    "fc7 = tf.nn.dropout(fc7, keep_prob=keep_prob)\n",
    "\n",
    "#fully_connected3\n",
    "W8 = tf.get_variable(\"w8\", shape = [4096,2], dtype = tf.float32, initializer=tf.contrib.layers.xavier_initializer())\n",
    "b8 = tf.get_variable(\"b8\", shape = [2], dtype = tf.float32, initializer=tf.contrib.layers.xavier_initializer())\n",
    "logits = tf.matmul(fc7, W8) + b8\n",
    "\n",
    "cost= tf.reduce_mean(tf.nn.softmax_cross_entropy_with_logits(logits=logits, labels=Y))\n",
    "optimizer = tf.train.AdamOptimizer(learning_rate=learning_rate).minimize(cost)\n",
    "\n",
    "sess = tf.Session()\n",
    "sess.run(tf.global_variables_initializer())\n",
    "\n",
    "print(\"Learning Started\")\n",
    "for epoch in range(training_epochs):\n",
    "    avg_cost = 0\n",
    "    total_batch = int(len(train_img)/batch_size)\n",
    "    for i in range(total_batch):print(max_pool5)\n",
    "        batch_xs = train_img[i*batch_size:(i+1)*batch_size]\n",
    "        batch_ys = train_label[i*batch_size:(i+1)*batch_size]\n",
    "        c, _ = sess.run([cost, optimizer], feed_dict = {X : batch_xs, Y: batch_ys, keep_prob:0.7})\n",
    "        avg_cost += c/total_batch\n",
    "    \n",
    "    print(\"Epoch :\", epoch+1, \"cost :\", avg_cost)\n",
    "    \n",
    "print(\"Learning Finished\")\n",
    "\n",
    "correct_prediction = tf.equal(tf.argmax(logits, 1), tf.argmax(Y, 1))\n",
    "accuracy = tf.reduce_mean(tf.cast(correct_prediction, tf.float32))\n",
    "print(\"Accuracy :\", sess.run(accuracy, feed_dict={X : test_img, Y: test_label, keep_prob:1}))"
   ]
  },
  {
   "cell_type": "code",
   "execution_count": 26,
   "metadata": {},
   "outputs": [
    {
     "name": "stdout",
     "output_type": "stream",
     "text": [
      "Accuracy : 0.502\n"
     ]
    }
   ],
   "source": [
    "correct_prediction = tf.equal(tf.argmax(logits, 1), tf.argmax(Y, 1))\n",
    "accuracy = tf.reduce_mean(tf.cast(correct_prediction, tf.float32))\n",
    "ac = sess.run(accuracy, feed_dict={X : test_img, Y: test_label, keep_prob:1})\n",
    "print(\"Accuracy :\", ac)"
   ]
  },
  {
   "cell_type": "code",
   "execution_count": 22,
   "metadata": {},
   "outputs": [
    {
     "name": "stdout",
     "output_type": "stream",
     "text": [
      "(5000, 2)\n"
     ]
    }
   ],
   "source": [
    "train\n",
    "0~255/ 0~1 ... 1\n"
   ]
  }
 ],
 "metadata": {
  "kernelspec": {
   "display_name": "Python 3",
   "language": "python",
   "name": "python3"
  },
  "language_info": {
   "codemirror_mode": {
    "name": "ipython",
    "version": 3
   },
   "file_extension": ".py",
   "mimetype": "text/x-python",
   "name": "python",
   "nbconvert_exporter": "python",
   "pygments_lexer": "ipython3",
   "version": "3.6.4"
  }
 },
 "nbformat": 4,
 "nbformat_minor": 2
}
